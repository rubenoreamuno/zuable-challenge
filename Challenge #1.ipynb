{
 "cells": [
  {
   "cell_type": "code",
   "execution_count": 0,
   "metadata": {
    "application/vnd.databricks.v1+cell": {
     "cellMetadata": {
      "byteLimit": 2048000,
      "rowLimit": 10000
     },
     "inputWidgets": {},
     "nuid": "45ab498a-9672-4da7-9262-a934c8b99e9c",
     "showTitle": false,
     "tableResultSettingsMap": {},
     "title": ""
    }
   },
   "outputs": [],
   "source": [
    "from pyspark.sql.types import *\n",
    "from pyspark.sql.functions import *"
   ]
  },
  {
   "cell_type": "markdown",
   "metadata": {
    "application/vnd.databricks.v1+cell": {
     "cellMetadata": {
      "byteLimit": 2048000,
      "rowLimit": 10000
     },
     "inputWidgets": {},
     "nuid": "d71065d0-d41d-4dad-a35f-7b2c8498c3b9",
     "showTitle": false,
     "tableResultSettingsMap": {},
     "title": ""
    }
   },
   "source": [
    "# Extract"
   ]
  },
  {
   "cell_type": "code",
   "execution_count": 0,
   "metadata": {
    "application/vnd.databricks.v1+cell": {
     "cellMetadata": {
      "byteLimit": 2048000,
      "rowLimit": 10000
     },
     "inputWidgets": {},
     "nuid": "ec060a23-5075-410f-bbde-215f16134bc1",
     "showTitle": false,
     "tableResultSettingsMap": {},
     "title": ""
    }
   },
   "outputs": [],
   "source": [
    "df_products_path = \"/Volumes/zubale/challenge1/products/zubale-products.csv\"\n",
    "df_orders_path = \"/Volumes/zubale/challenge1/orders/zubale-orders.csv\""
   ]
  },
  {
   "cell_type": "code",
   "execution_count": 0,
   "metadata": {
    "application/vnd.databricks.v1+cell": {
     "cellMetadata": {
      "byteLimit": 2048000,
      "rowLimit": 10000
     },
     "inputWidgets": {},
     "nuid": "4f25b8e2-13d6-4ba2-bfa9-6f79413d1d8d",
     "showTitle": false,
     "tableResultSettingsMap": {},
     "title": ""
    }
   },
   "outputs": [],
   "source": [
    "# Schema for the products table.\n",
    "products_schema= StructType([\n",
    "StructField('id',StringType(),nullable=True ),\n",
    "StructField('name',StringType(),nullable=True),\n",
    "StructField('category',StringType(),nullable=True),\n",
    "StructField('price',FloatType(),nullable=True)\n",
    "])"
   ]
  },
  {
   "cell_type": "code",
   "execution_count": 0,
   "metadata": {
    "application/vnd.databricks.v1+cell": {
     "cellMetadata": {
      "byteLimit": 2048000,
      "rowLimit": 10000
     },
     "inputWidgets": {},
     "nuid": "3996bc44-10f1-4d1e-816f-c4ff73c4548c",
     "showTitle": false,
     "tableResultSettingsMap": {},
     "title": ""
    }
   },
   "outputs": [],
   "source": [
    "# Schema for the orders table.\n",
    "orders_schema= StructType([\n",
    "StructField('id',StringType(),nullable=True ),\n",
    "StructField('product_id',StringType(),nullable=True),\n",
    "StructField('quantity',IntegerType(),nullable=True),\n",
    "StructField('created_date',StringType(),nullable=True)\n",
    "])"
   ]
  },
  {
   "cell_type": "code",
   "execution_count": 0,
   "metadata": {
    "application/vnd.databricks.v1+cell": {
     "cellMetadata": {
      "byteLimit": 2048000,
      "rowLimit": 10000
     },
     "inputWidgets": {},
     "nuid": "a448b4fa-9c6d-4c1b-a3ea-e0320e05cbfb",
     "showTitle": false,
     "tableResultSettingsMap": {},
     "title": ""
    }
   },
   "outputs": [],
   "source": [
    "df_products = spark.read.schema(products_schema).csv(df_products_path, sep=\",\", header=True)\n",
    "df_orders = spark.read.schema(orders_schema).csv(df_orders_path, sep=\",\", header=True)\n",
    "#display(df_products)\n",
    "#display(df_orders)"
   ]
  },
  {
   "cell_type": "code",
   "execution_count": 0,
   "metadata": {
    "application/vnd.databricks.v1+cell": {
     "cellMetadata": {
      "byteLimit": 2048000,
      "rowLimit": 10000
     },
     "inputWidgets": {},
     "nuid": "372ab831-9d10-49aa-b22c-644af7feac81",
     "showTitle": false,
     "tableResultSettingsMap": {},
     "title": ""
    }
   },
   "outputs": [
    {
     "output_type": "display_data",
     "data": {
      "text/html": [
       "<style scoped>\n",
       "  .table-result-container {\n",
       "    max-height: 300px;\n",
       "    overflow: auto;\n",
       "  }\n",
       "  table, th, td {\n",
       "    border: 1px solid black;\n",
       "    border-collapse: collapse;\n",
       "  }\n",
       "  th, td {\n",
       "    padding: 5px;\n",
       "  }\n",
       "  th {\n",
       "    text-align: left;\n",
       "  }\n",
       "</style><div class='table-result-container'><table class='table-result'><thead style='background-color: white'><tr><th>id</th><th>name</th><th>category</th><th>price</th></tr></thead><tbody><tr><td>1</td><td>Product_1</td><td>Pants</td><td>92.55</td></tr><tr><td>2</td><td>Product_2</td><td>Shirts</td><td>43.11</td></tr><tr><td>3</td><td>Product_3</td><td>Jackets</td><td>59.02</td></tr><tr><td>4</td><td>Product_4</td><td>Shoes</td><td>49.65</td></tr><tr><td>5</td><td>Product_5</td><td>Pants</td><td>44.59</td></tr><tr><td>6</td><td>Product_6</td><td>Shoes</td><td>16.27</td></tr><tr><td>7</td><td>Product_7</td><td>Shirts</td><td>99.96</td></tr><tr><td>8</td><td>Product_8</td><td>Shirts</td><td>46.77</td></tr><tr><td>9</td><td>Product_9</td><td>Pants</td><td>32.68</td></tr><tr><td>10</td><td>Product_10</td><td>Pants</td><td>88.24</td></tr><tr><td>11</td><td>Product_11</td><td>Dresses</td><td>69.06</td></tr><tr><td>12</td><td>Product_12</td><td>Jackets</td><td>50.99</td></tr><tr><td>13</td><td>Product_13</td><td>Shoes</td><td>15.53</td></tr><tr><td>14</td><td>Product_14</td><td>Dresses</td><td>45.56</td></tr><tr><td>15</td><td>Product_15</td><td>Shirts</td><td>97.72</td></tr><tr><td>16</td><td>Product_16</td><td>Dresses</td><td>38.08</td></tr><tr><td>17</td><td>Product_17</td><td>Shirts</td><td>98.51</td></tr><tr><td>18</td><td>Product_18</td><td>Jackets</td><td>10.11</td></tr><tr><td>19</td><td>Product_19</td><td>Shirts</td><td>51.94</td></tr><tr><td>20</td><td>Product_20</td><td>Jackets</td><td>37.85</td></tr></tbody></table></div>"
      ]
     },
     "metadata": {
      "application/vnd.databricks.v1+output": {
       "addedWidgets": {},
       "aggData": [],
       "aggError": "",
       "aggOverflow": false,
       "aggSchema": [],
       "aggSeriesLimitReached": false,
       "aggType": "",
       "arguments": {},
       "columnCustomDisplayInfos": {},
       "data": [
        [
         "1",
         "Product_1",
         "Pants",
         92.55
        ],
        [
         "2",
         "Product_2",
         "Shirts",
         43.11
        ],
        [
         "3",
         "Product_3",
         "Jackets",
         59.02
        ],
        [
         "4",
         "Product_4",
         "Shoes",
         49.65
        ],
        [
         "5",
         "Product_5",
         "Pants",
         44.59
        ],
        [
         "6",
         "Product_6",
         "Shoes",
         16.27
        ],
        [
         "7",
         "Product_7",
         "Shirts",
         99.96
        ],
        [
         "8",
         "Product_8",
         "Shirts",
         46.77
        ],
        [
         "9",
         "Product_9",
         "Pants",
         32.68
        ],
        [
         "10",
         "Product_10",
         "Pants",
         88.24
        ],
        [
         "11",
         "Product_11",
         "Dresses",
         69.06
        ],
        [
         "12",
         "Product_12",
         "Jackets",
         50.99
        ],
        [
         "13",
         "Product_13",
         "Shoes",
         15.53
        ],
        [
         "14",
         "Product_14",
         "Dresses",
         45.56
        ],
        [
         "15",
         "Product_15",
         "Shirts",
         97.72
        ],
        [
         "16",
         "Product_16",
         "Dresses",
         38.08
        ],
        [
         "17",
         "Product_17",
         "Shirts",
         98.51
        ],
        [
         "18",
         "Product_18",
         "Jackets",
         10.11
        ],
        [
         "19",
         "Product_19",
         "Shirts",
         51.94
        ],
        [
         "20",
         "Product_20",
         "Jackets",
         37.85
        ]
       ],
       "datasetInfos": [],
       "dbfsResultPath": null,
       "isJsonSchema": true,
       "metadata": {},
       "overflow": false,
       "plotOptions": {
        "customPlotOptions": {},
        "displayType": "table",
        "pivotAggregation": null,
        "pivotColumns": null,
        "xColumns": null,
        "yColumns": null
       },
       "removedWidgets": [],
       "schema": [
        {
         "metadata": "{}",
         "name": "id",
         "type": "\"string\""
        },
        {
         "metadata": "{}",
         "name": "name",
         "type": "\"string\""
        },
        {
         "metadata": "{}",
         "name": "category",
         "type": "\"string\""
        },
        {
         "metadata": "{}",
         "name": "price",
         "type": "\"float\""
        }
       ],
       "type": "table"
      }
     },
     "output_type": "display_data"
    },
    {
     "output_type": "display_data",
     "data": {
      "text/html": [
       "<style scoped>\n",
       "  .table-result-container {\n",
       "    max-height: 300px;\n",
       "    overflow: auto;\n",
       "  }\n",
       "  table, th, td {\n",
       "    border: 1px solid black;\n",
       "    border-collapse: collapse;\n",
       "  }\n",
       "  th, td {\n",
       "    padding: 5px;\n",
       "  }\n",
       "  th {\n",
       "    text-align: left;\n",
       "  }\n",
       "</style><div class='table-result-container'><table class='table-result'><thead style='background-color: white'><tr><th>id</th><th>product_id</th><th>quantity</th><th>created_date</th></tr></thead><tbody><tr><td>1</td><td>11</td><td>1</td><td>'2024-12-01'</td></tr><tr><td>2</td><td>17</td><td>2</td><td>'2024-12-01'</td></tr><tr><td>3</td><td>19</td><td>1</td><td>'2024-12-01'</td></tr><tr><td>4</td><td>12</td><td>1</td><td>'2024-12-01'</td></tr><tr><td>5</td><td>11</td><td>2</td><td>'2024-12-01'</td></tr><tr><td>6</td><td>17</td><td>1</td><td>'2024-12-01'</td></tr><tr><td>7</td><td>5</td><td>5</td><td>'2024-12-01'</td></tr><tr><td>8</td><td>5</td><td>4</td><td>'2024-12-01'</td></tr><tr><td>9</td><td>5</td><td>2</td><td>'2024-12-02'</td></tr><tr><td>10</td><td>1</td><td>4</td><td>'2024-12-02'</td></tr><tr><td>11</td><td>15</td><td>5</td><td>'2024-12-02'</td></tr><tr><td>12</td><td>7</td><td>4</td><td>'2024-12-02'</td></tr><tr><td>13</td><td>13</td><td>3</td><td>'2024-12-02'</td></tr><tr><td>14</td><td>13</td><td>5</td><td>'2024-12-03'</td></tr><tr><td>15</td><td>5</td><td>3</td><td>'2024-12-03'</td></tr><tr><td>16</td><td>2</td><td>2</td><td>'2024-12-03'</td></tr><tr><td>17</td><td>17</td><td>1</td><td>'2024-12-05'</td></tr><tr><td>18</td><td>6</td><td>2</td><td>'2024-12-05'</td></tr><tr><td>19</td><td>1</td><td>4</td><td>'2024-12-05'</td></tr><tr><td>20</td><td>5</td><td>1</td><td>'2024-12-05'</td></tr><tr><td>21</td><td>7</td><td>4</td><td>'2024-12-05'</td></tr><tr><td>22</td><td>3</td><td>2</td><td>'2024-12-05'</td></tr><tr><td>23</td><td>18</td><td>2</td><td>'2024-12-06'</td></tr><tr><td>24</td><td>5</td><td>1</td><td>'2024-12-06'</td></tr><tr><td>25</td><td>20</td><td>3</td><td>'2024-12-06'</td></tr><tr><td>26</td><td>20</td><td>4</td><td>'2024-12-06'</td></tr><tr><td>27</td><td>19</td><td>5</td><td>'2024-12-06'</td></tr><tr><td>28</td><td>20</td><td>5</td><td>'2024-12-06'</td></tr><tr><td>29</td><td>11</td><td>1</td><td>'2024-12-06'</td></tr><tr><td>30</td><td>18</td><td>2</td><td>'2024-12-06'</td></tr><tr><td>31</td><td>5</td><td>1</td><td>'2024-12-06'</td></tr><tr><td>32</td><td>4</td><td>5</td><td>'2024-12-06'</td></tr><tr><td>33</td><td>18</td><td>4</td><td>'2024-12-07'</td></tr><tr><td>34</td><td>18</td><td>4</td><td>'2024-12-07'</td></tr><tr><td>35</td><td>7</td><td>3</td><td>'2024-12-07'</td></tr><tr><td>36</td><td>13</td><td>5</td><td>'2024-12-07'</td></tr><tr><td>37</td><td>12</td><td>3</td><td>'2024-12-09'</td></tr><tr><td>38</td><td>17</td><td>1</td><td>'2024-12-09'</td></tr><tr><td>39</td><td>14</td><td>4</td><td>'2024-12-09'</td></tr><tr><td>40</td><td>19</td><td>4</td><td>'2024-12-09'</td></tr><tr><td>41</td><td>17</td><td>5</td><td>'2024-12-09'</td></tr><tr><td>42</td><td>19</td><td>4</td><td>'2024-12-09'</td></tr><tr><td>43</td><td>14</td><td>3</td><td>'2024-12-09'</td></tr><tr><td>44</td><td>4</td><td>2</td><td>'2024-12-10'</td></tr><tr><td>45</td><td>5</td><td>3</td><td>'2024-12-10'</td></tr><tr><td>46</td><td>8</td><td>3</td><td>'2024-12-10'</td></tr><tr><td>47</td><td>10</td><td>1</td><td>'2024-12-10'</td></tr><tr><td>48</td><td>14</td><td>3</td><td>'2024-12-10'</td></tr><tr><td>49</td><td>6</td><td>1</td><td>'2024-12-10'</td></tr><tr><td>50</td><td>19</td><td>5</td><td>'2024-12-10'</td></tr></tbody></table></div>"
      ]
     },
     "metadata": {
      "application/vnd.databricks.v1+output": {
       "addedWidgets": {},
       "aggData": [],
       "aggError": "",
       "aggOverflow": false,
       "aggSchema": [],
       "aggSeriesLimitReached": false,
       "aggType": "",
       "arguments": {},
       "columnCustomDisplayInfos": {},
       "data": [
        [
         "1",
         "11",
         1,
         "'2024-12-01'"
        ],
        [
         "2",
         "17",
         2,
         "'2024-12-01'"
        ],
        [
         "3",
         "19",
         1,
         "'2024-12-01'"
        ],
        [
         "4",
         "12",
         1,
         "'2024-12-01'"
        ],
        [
         "5",
         "11",
         2,
         "'2024-12-01'"
        ],
        [
         "6",
         "17",
         1,
         "'2024-12-01'"
        ],
        [
         "7",
         "5",
         5,
         "'2024-12-01'"
        ],
        [
         "8",
         "5",
         4,
         "'2024-12-01'"
        ],
        [
         "9",
         "5",
         2,
         "'2024-12-02'"
        ],
        [
         "10",
         "1",
         4,
         "'2024-12-02'"
        ],
        [
         "11",
         "15",
         5,
         "'2024-12-02'"
        ],
        [
         "12",
         "7",
         4,
         "'2024-12-02'"
        ],
        [
         "13",
         "13",
         3,
         "'2024-12-02'"
        ],
        [
         "14",
         "13",
         5,
         "'2024-12-03'"
        ],
        [
         "15",
         "5",
         3,
         "'2024-12-03'"
        ],
        [
         "16",
         "2",
         2,
         "'2024-12-03'"
        ],
        [
         "17",
         "17",
         1,
         "'2024-12-05'"
        ],
        [
         "18",
         "6",
         2,
         "'2024-12-05'"
        ],
        [
         "19",
         "1",
         4,
         "'2024-12-05'"
        ],
        [
         "20",
         "5",
         1,
         "'2024-12-05'"
        ],
        [
         "21",
         "7",
         4,
         "'2024-12-05'"
        ],
        [
         "22",
         "3",
         2,
         "'2024-12-05'"
        ],
        [
         "23",
         "18",
         2,
         "'2024-12-06'"
        ],
        [
         "24",
         "5",
         1,
         "'2024-12-06'"
        ],
        [
         "25",
         "20",
         3,
         "'2024-12-06'"
        ],
        [
         "26",
         "20",
         4,
         "'2024-12-06'"
        ],
        [
         "27",
         "19",
         5,
         "'2024-12-06'"
        ],
        [
         "28",
         "20",
         5,
         "'2024-12-06'"
        ],
        [
         "29",
         "11",
         1,
         "'2024-12-06'"
        ],
        [
         "30",
         "18",
         2,
         "'2024-12-06'"
        ],
        [
         "31",
         "5",
         1,
         "'2024-12-06'"
        ],
        [
         "32",
         "4",
         5,
         "'2024-12-06'"
        ],
        [
         "33",
         "18",
         4,
         "'2024-12-07'"
        ],
        [
         "34",
         "18",
         4,
         "'2024-12-07'"
        ],
        [
         "35",
         "7",
         3,
         "'2024-12-07'"
        ],
        [
         "36",
         "13",
         5,
         "'2024-12-07'"
        ],
        [
         "37",
         "12",
         3,
         "'2024-12-09'"
        ],
        [
         "38",
         "17",
         1,
         "'2024-12-09'"
        ],
        [
         "39",
         "14",
         4,
         "'2024-12-09'"
        ],
        [
         "40",
         "19",
         4,
         "'2024-12-09'"
        ],
        [
         "41",
         "17",
         5,
         "'2024-12-09'"
        ],
        [
         "42",
         "19",
         4,
         "'2024-12-09'"
        ],
        [
         "43",
         "14",
         3,
         "'2024-12-09'"
        ],
        [
         "44",
         "4",
         2,
         "'2024-12-10'"
        ],
        [
         "45",
         "5",
         3,
         "'2024-12-10'"
        ],
        [
         "46",
         "8",
         3,
         "'2024-12-10'"
        ],
        [
         "47",
         "10",
         1,
         "'2024-12-10'"
        ],
        [
         "48",
         "14",
         3,
         "'2024-12-10'"
        ],
        [
         "49",
         "6",
         1,
         "'2024-12-10'"
        ],
        [
         "50",
         "19",
         5,
         "'2024-12-10'"
        ]
       ],
       "datasetInfos": [],
       "dbfsResultPath": null,
       "isJsonSchema": true,
       "metadata": {},
       "overflow": false,
       "plotOptions": {
        "customPlotOptions": {},
        "displayType": "table",
        "pivotAggregation": null,
        "pivotColumns": null,
        "xColumns": null,
        "yColumns": null
       },
       "removedWidgets": [],
       "schema": [
        {
         "metadata": "{}",
         "name": "id",
         "type": "\"string\""
        },
        {
         "metadata": "{}",
         "name": "product_id",
         "type": "\"string\""
        },
        {
         "metadata": "{}",
         "name": "quantity",
         "type": "\"integer\""
        },
        {
         "metadata": "{}",
         "name": "created_date",
         "type": "\"string\""
        }
       ],
       "type": "table"
      }
     },
     "output_type": "display_data"
    }
   ],
   "source": [
    "df_products.display()\n",
    "df_orders.display()"
   ]
  },
  {
   "cell_type": "code",
   "execution_count": 0,
   "metadata": {
    "application/vnd.databricks.v1+cell": {
     "cellMetadata": {
      "byteLimit": 2048000,
      "rowLimit": 10000
     },
     "inputWidgets": {},
     "nuid": "d59f75e7-faa6-4080-99f0-264613261944",
     "showTitle": false,
     "tableResultSettingsMap": {},
     "title": ""
    }
   },
   "outputs": [],
   "source": [
    "bronze_path = 'zubale.bronze'"
   ]
  },
  {
   "cell_type": "code",
   "execution_count": 0,
   "metadata": {
    "application/vnd.databricks.v1+cell": {
     "cellMetadata": {
      "byteLimit": 2048000,
      "rowLimit": 10000
     },
     "inputWidgets": {},
     "nuid": "2a0b19ee-75ce-4744-8f6b-299565ef6c15",
     "showTitle": false,
     "tableResultSettingsMap": {},
     "title": ""
    }
   },
   "outputs": [],
   "source": [
    "# Save to a table.\n",
    "df_orders.write.mode('overwrite').format(\"delta\").saveAsTable(f\"{bronze_path}.zubaleOrders\")\n",
    "df_products.write.mode('overwrite').format(\"delta\").saveAsTable(f\"{bronze_path}.zubaleProducts\")"
   ]
  },
  {
   "cell_type": "markdown",
   "metadata": {
    "application/vnd.databricks.v1+cell": {
     "cellMetadata": {
      "byteLimit": 2048000,
      "rowLimit": 10000
     },
     "inputWidgets": {},
     "nuid": "ca076e33-f72f-484d-82c2-43315ccbbc52",
     "showTitle": false,
     "tableResultSettingsMap": {},
     "title": ""
    }
   },
   "source": [
    "# Transform"
   ]
  },
  {
   "cell_type": "code",
   "execution_count": 0,
   "metadata": {
    "application/vnd.databricks.v1+cell": {
     "cellMetadata": {
      "byteLimit": 2048000,
      "rowLimit": 10000
     },
     "inputWidgets": {},
     "nuid": "065991a4-e8fd-4d7a-998e-f338c752885f",
     "showTitle": false,
     "tableResultSettingsMap": {},
     "title": ""
    }
   },
   "outputs": [],
   "source": [
    "from pyspark.sql.types import *\n",
    "import pyspark.sql.functions as F\n",
    "from pyspark.sql.functions import udf, col"
   ]
  },
  {
   "cell_type": "code",
   "execution_count": 0,
   "metadata": {
    "application/vnd.databricks.v1+cell": {
     "cellMetadata": {
      "byteLimit": 2048000,
      "rowLimit": 10000
     },
     "inputWidgets": {},
     "nuid": "11a09fd9-08c3-458f-82d9-758d6a5a5203",
     "showTitle": false,
     "tableResultSettingsMap": {},
     "title": ""
    }
   },
   "outputs": [],
   "source": [
    "# Read the tables.\n",
    "df_products = spark.table(\"zubale.bronze.zubaleProducts\")\n",
    "df_orders = spark.table(\"zubale.bronze.zubaleOrders\")"
   ]
  },
  {
   "cell_type": "code",
   "execution_count": 0,
   "metadata": {
    "application/vnd.databricks.v1+cell": {
     "cellMetadata": {
      "byteLimit": 2048000,
      "rowLimit": 10000
     },
     "inputWidgets": {},
     "nuid": "6b3b508b-7983-4ef3-aa6b-071cdad4b955",
     "showTitle": false,
     "tableResultSettingsMap": {},
     "title": ""
    }
   },
   "outputs": [
    {
     "output_type": "display_data",
     "data": {
      "text/html": [
       "<style scoped>\n",
       "  .table-result-container {\n",
       "    max-height: 300px;\n",
       "    overflow: auto;\n",
       "  }\n",
       "  table, th, td {\n",
       "    border: 1px solid black;\n",
       "    border-collapse: collapse;\n",
       "  }\n",
       "  th, td {\n",
       "    padding: 5px;\n",
       "  }\n",
       "  th {\n",
       "    text-align: left;\n",
       "  }\n",
       "</style><div class='table-result-container'><table class='table-result'><thead style='background-color: white'><tr><th>order_id</th><th>order_created_date</th><th>product_name</th><th>quantity</th><th>total_price</th></tr></thead><tbody><tr><td>1</td><td>'2024-12-01'</td><td>Product_11</td><td>1</td><td>69.05999755859375</td></tr><tr><td>2</td><td>'2024-12-01'</td><td>Product_17</td><td>2</td><td>197.02000427246094</td></tr><tr><td>3</td><td>'2024-12-01'</td><td>Product_19</td><td>1</td><td>51.939998626708984</td></tr><tr><td>4</td><td>'2024-12-01'</td><td>Product_12</td><td>1</td><td>50.9900016784668</td></tr><tr><td>5</td><td>'2024-12-01'</td><td>Product_11</td><td>2</td><td>138.1199951171875</td></tr><tr><td>6</td><td>'2024-12-01'</td><td>Product_17</td><td>1</td><td>98.51000213623047</td></tr><tr><td>7</td><td>'2024-12-01'</td><td>Product_5</td><td>5</td><td>222.95000076293945</td></tr><tr><td>8</td><td>'2024-12-01'</td><td>Product_5</td><td>4</td><td>178.36000061035156</td></tr><tr><td>9</td><td>'2024-12-02'</td><td>Product_5</td><td>2</td><td>89.18000030517578</td></tr><tr><td>10</td><td>'2024-12-02'</td><td>Product_1</td><td>4</td><td>370.20001220703125</td></tr><tr><td>11</td><td>'2024-12-02'</td><td>Product_15</td><td>5</td><td>488.6000061035156</td></tr><tr><td>12</td><td>'2024-12-02'</td><td>Product_7</td><td>4</td><td>399.8399963378906</td></tr><tr><td>13</td><td>'2024-12-02'</td><td>Product_13</td><td>3</td><td>46.589999198913574</td></tr><tr><td>14</td><td>'2024-12-03'</td><td>Product_13</td><td>5</td><td>77.64999866485596</td></tr><tr><td>15</td><td>'2024-12-03'</td><td>Product_5</td><td>3</td><td>133.77000045776367</td></tr><tr><td>16</td><td>'2024-12-03'</td><td>Product_2</td><td>2</td><td>86.22000122070312</td></tr><tr><td>17</td><td>'2024-12-05'</td><td>Product_17</td><td>1</td><td>98.51000213623047</td></tr><tr><td>18</td><td>'2024-12-05'</td><td>Product_6</td><td>2</td><td>32.540000915527344</td></tr><tr><td>19</td><td>'2024-12-05'</td><td>Product_1</td><td>4</td><td>370.20001220703125</td></tr><tr><td>20</td><td>'2024-12-05'</td><td>Product_5</td><td>1</td><td>44.59000015258789</td></tr><tr><td>21</td><td>'2024-12-05'</td><td>Product_7</td><td>4</td><td>399.8399963378906</td></tr><tr><td>22</td><td>'2024-12-05'</td><td>Product_3</td><td>2</td><td>118.04000091552734</td></tr><tr><td>23</td><td>'2024-12-06'</td><td>Product_18</td><td>2</td><td>20.219999313354492</td></tr><tr><td>24</td><td>'2024-12-06'</td><td>Product_5</td><td>1</td><td>44.59000015258789</td></tr><tr><td>25</td><td>'2024-12-06'</td><td>Product_20</td><td>3</td><td>113.54999542236328</td></tr><tr><td>26</td><td>'2024-12-06'</td><td>Product_20</td><td>4</td><td>151.39999389648438</td></tr><tr><td>27</td><td>'2024-12-06'</td><td>Product_19</td><td>5</td><td>259.6999931335449</td></tr><tr><td>28</td><td>'2024-12-06'</td><td>Product_20</td><td>5</td><td>189.24999237060547</td></tr><tr><td>29</td><td>'2024-12-06'</td><td>Product_11</td><td>1</td><td>69.05999755859375</td></tr><tr><td>30</td><td>'2024-12-06'</td><td>Product_18</td><td>2</td><td>20.219999313354492</td></tr><tr><td>31</td><td>'2024-12-06'</td><td>Product_5</td><td>1</td><td>44.59000015258789</td></tr><tr><td>32</td><td>'2024-12-06'</td><td>Product_4</td><td>5</td><td>248.25000762939453</td></tr><tr><td>33</td><td>'2024-12-07'</td><td>Product_18</td><td>4</td><td>40.439998626708984</td></tr><tr><td>34</td><td>'2024-12-07'</td><td>Product_18</td><td>4</td><td>40.439998626708984</td></tr><tr><td>35</td><td>'2024-12-07'</td><td>Product_7</td><td>3</td><td>299.87999725341797</td></tr><tr><td>36</td><td>'2024-12-07'</td><td>Product_13</td><td>5</td><td>77.64999866485596</td></tr><tr><td>37</td><td>'2024-12-09'</td><td>Product_12</td><td>3</td><td>152.9700050354004</td></tr><tr><td>38</td><td>'2024-12-09'</td><td>Product_17</td><td>1</td><td>98.51000213623047</td></tr><tr><td>39</td><td>'2024-12-09'</td><td>Product_14</td><td>4</td><td>182.24000549316406</td></tr><tr><td>40</td><td>'2024-12-09'</td><td>Product_19</td><td>4</td><td>207.75999450683594</td></tr><tr><td>41</td><td>'2024-12-09'</td><td>Product_17</td><td>5</td><td>492.55001068115234</td></tr><tr><td>42</td><td>'2024-12-09'</td><td>Product_19</td><td>4</td><td>207.75999450683594</td></tr><tr><td>43</td><td>'2024-12-09'</td><td>Product_14</td><td>3</td><td>136.68000411987305</td></tr><tr><td>44</td><td>'2024-12-10'</td><td>Product_4</td><td>2</td><td>99.30000305175781</td></tr><tr><td>45</td><td>'2024-12-10'</td><td>Product_5</td><td>3</td><td>133.77000045776367</td></tr><tr><td>46</td><td>'2024-12-10'</td><td>Product_8</td><td>3</td><td>140.31000137329102</td></tr><tr><td>47</td><td>'2024-12-10'</td><td>Product_10</td><td>1</td><td>88.23999786376953</td></tr><tr><td>48</td><td>'2024-12-10'</td><td>Product_14</td><td>3</td><td>136.68000411987305</td></tr><tr><td>49</td><td>'2024-12-10'</td><td>Product_6</td><td>1</td><td>16.270000457763672</td></tr><tr><td>50</td><td>'2024-12-10'</td><td>Product_19</td><td>5</td><td>259.6999931335449</td></tr></tbody></table></div>"
      ]
     },
     "metadata": {
      "application/vnd.databricks.v1+output": {
       "addedWidgets": {},
       "aggData": [],
       "aggError": "",
       "aggOverflow": false,
       "aggSchema": [],
       "aggSeriesLimitReached": false,
       "aggType": "",
       "arguments": {},
       "columnCustomDisplayInfos": {},
       "data": [
        [
         "1",
         "'2024-12-01'",
         "Product_11",
         1,
         69.05999755859375
        ],
        [
         "2",
         "'2024-12-01'",
         "Product_17",
         2,
         197.02000427246094
        ],
        [
         "3",
         "'2024-12-01'",
         "Product_19",
         1,
         51.939998626708984
        ],
        [
         "4",
         "'2024-12-01'",
         "Product_12",
         1,
         50.9900016784668
        ],
        [
         "5",
         "'2024-12-01'",
         "Product_11",
         2,
         138.1199951171875
        ],
        [
         "6",
         "'2024-12-01'",
         "Product_17",
         1,
         98.51000213623047
        ],
        [
         "7",
         "'2024-12-01'",
         "Product_5",
         5,
         222.95000076293945
        ],
        [
         "8",
         "'2024-12-01'",
         "Product_5",
         4,
         178.36000061035156
        ],
        [
         "9",
         "'2024-12-02'",
         "Product_5",
         2,
         89.18000030517578
        ],
        [
         "10",
         "'2024-12-02'",
         "Product_1",
         4,
         370.20001220703125
        ],
        [
         "11",
         "'2024-12-02'",
         "Product_15",
         5,
         488.6000061035156
        ],
        [
         "12",
         "'2024-12-02'",
         "Product_7",
         4,
         399.8399963378906
        ],
        [
         "13",
         "'2024-12-02'",
         "Product_13",
         3,
         46.589999198913574
        ],
        [
         "14",
         "'2024-12-03'",
         "Product_13",
         5,
         77.64999866485596
        ],
        [
         "15",
         "'2024-12-03'",
         "Product_5",
         3,
         133.77000045776367
        ],
        [
         "16",
         "'2024-12-03'",
         "Product_2",
         2,
         86.22000122070312
        ],
        [
         "17",
         "'2024-12-05'",
         "Product_17",
         1,
         98.51000213623047
        ],
        [
         "18",
         "'2024-12-05'",
         "Product_6",
         2,
         32.540000915527344
        ],
        [
         "19",
         "'2024-12-05'",
         "Product_1",
         4,
         370.20001220703125
        ],
        [
         "20",
         "'2024-12-05'",
         "Product_5",
         1,
         44.59000015258789
        ],
        [
         "21",
         "'2024-12-05'",
         "Product_7",
         4,
         399.8399963378906
        ],
        [
         "22",
         "'2024-12-05'",
         "Product_3",
         2,
         118.04000091552734
        ],
        [
         "23",
         "'2024-12-06'",
         "Product_18",
         2,
         20.219999313354492
        ],
        [
         "24",
         "'2024-12-06'",
         "Product_5",
         1,
         44.59000015258789
        ],
        [
         "25",
         "'2024-12-06'",
         "Product_20",
         3,
         113.54999542236328
        ],
        [
         "26",
         "'2024-12-06'",
         "Product_20",
         4,
         151.39999389648438
        ],
        [
         "27",
         "'2024-12-06'",
         "Product_19",
         5,
         259.6999931335449
        ],
        [
         "28",
         "'2024-12-06'",
         "Product_20",
         5,
         189.24999237060547
        ],
        [
         "29",
         "'2024-12-06'",
         "Product_11",
         1,
         69.05999755859375
        ],
        [
         "30",
         "'2024-12-06'",
         "Product_18",
         2,
         20.219999313354492
        ],
        [
         "31",
         "'2024-12-06'",
         "Product_5",
         1,
         44.59000015258789
        ],
        [
         "32",
         "'2024-12-06'",
         "Product_4",
         5,
         248.25000762939453
        ],
        [
         "33",
         "'2024-12-07'",
         "Product_18",
         4,
         40.439998626708984
        ],
        [
         "34",
         "'2024-12-07'",
         "Product_18",
         4,
         40.439998626708984
        ],
        [
         "35",
         "'2024-12-07'",
         "Product_7",
         3,
         299.87999725341797
        ],
        [
         "36",
         "'2024-12-07'",
         "Product_13",
         5,
         77.64999866485596
        ],
        [
         "37",
         "'2024-12-09'",
         "Product_12",
         3,
         152.9700050354004
        ],
        [
         "38",
         "'2024-12-09'",
         "Product_17",
         1,
         98.51000213623047
        ],
        [
         "39",
         "'2024-12-09'",
         "Product_14",
         4,
         182.24000549316406
        ],
        [
         "40",
         "'2024-12-09'",
         "Product_19",
         4,
         207.75999450683594
        ],
        [
         "41",
         "'2024-12-09'",
         "Product_17",
         5,
         492.55001068115234
        ],
        [
         "42",
         "'2024-12-09'",
         "Product_19",
         4,
         207.75999450683594
        ],
        [
         "43",
         "'2024-12-09'",
         "Product_14",
         3,
         136.68000411987305
        ],
        [
         "44",
         "'2024-12-10'",
         "Product_4",
         2,
         99.30000305175781
        ],
        [
         "45",
         "'2024-12-10'",
         "Product_5",
         3,
         133.77000045776367
        ],
        [
         "46",
         "'2024-12-10'",
         "Product_8",
         3,
         140.31000137329102
        ],
        [
         "47",
         "'2024-12-10'",
         "Product_10",
         1,
         88.23999786376953
        ],
        [
         "48",
         "'2024-12-10'",
         "Product_14",
         3,
         136.68000411987305
        ],
        [
         "49",
         "'2024-12-10'",
         "Product_6",
         1,
         16.270000457763672
        ],
        [
         "50",
         "'2024-12-10'",
         "Product_19",
         5,
         259.6999931335449
        ]
       ],
       "datasetInfos": [],
       "dbfsResultPath": null,
       "isJsonSchema": true,
       "metadata": {},
       "overflow": false,
       "plotOptions": {
        "customPlotOptions": {},
        "displayType": "table",
        "pivotAggregation": null,
        "pivotColumns": null,
        "xColumns": null,
        "yColumns": null
       },
       "removedWidgets": [],
       "schema": [
        {
         "metadata": "{}",
         "name": "order_id",
         "type": "\"string\""
        },
        {
         "metadata": "{}",
         "name": "order_created_date",
         "type": "\"string\""
        },
        {
         "metadata": "{}",
         "name": "product_name",
         "type": "\"string\""
        },
        {
         "metadata": "{}",
         "name": "quantity",
         "type": "\"integer\""
        },
        {
         "metadata": "{}",
         "name": "total_price",
         "type": "\"double\""
        }
       ],
       "type": "table"
      }
     },
     "output_type": "display_data"
    }
   ],
   "source": [
    "#Left join for the products and orders tables.\n",
    "# And leave only the columns for: order_id, created_date, product_name, quantity.\n",
    "df_joined = df_orders.join(df_products, df_products.id == df_orders.product_id, \"left\").select(\n",
    "    df_orders.id.alias(\"order_id\"),\n",
    "    df_orders.created_date.alias(\"order_created_date\"),\n",
    "    df_products.name.alias(\"product_name\"),\n",
    "    df_orders.quantity.alias(\"quantity\"),\n",
    "    (df_orders.quantity * df_products.price).alias(\"total_price\")\n",
    ")\n",
    "df_joined.display()"
   ]
  },
  {
   "cell_type": "code",
   "execution_count": 0,
   "metadata": {
    "application/vnd.databricks.v1+cell": {
     "cellMetadata": {
      "byteLimit": 2048000,
      "rowLimit": 10000
     },
     "inputWidgets": {},
     "nuid": "f788991b-30d8-49b3-87bb-44ab7679c4ec",
     "showTitle": false,
     "tableResultSettingsMap": {},
     "title": ""
    }
   },
   "outputs": [
    {
     "output_type": "display_data",
     "data": {
      "text/html": [
       "<style scoped>\n",
       "  .table-result-container {\n",
       "    max-height: 300px;\n",
       "    overflow: auto;\n",
       "  }\n",
       "  table, th, td {\n",
       "    border: 1px solid black;\n",
       "    border-collapse: collapse;\n",
       "  }\n",
       "  th, td {\n",
       "    padding: 5px;\n",
       "  }\n",
       "  th {\n",
       "    text-align: left;\n",
       "  }\n",
       "</style><div class='table-result-container'><table class='table-result'><thead style='background-color: white'><tr><th>order_id</th><th>order_created_date</th><th>product_name</th><th>quantity</th><th>total_price</th></tr></thead><tbody><tr><td>1</td><td>2024-12-01</td><td>Product_11</td><td>1</td><td>69.05999755859375</td></tr><tr><td>2</td><td>2024-12-01</td><td>Product_17</td><td>2</td><td>197.02000427246094</td></tr><tr><td>3</td><td>2024-12-01</td><td>Product_19</td><td>1</td><td>51.939998626708984</td></tr><tr><td>4</td><td>2024-12-01</td><td>Product_12</td><td>1</td><td>50.9900016784668</td></tr><tr><td>5</td><td>2024-12-01</td><td>Product_11</td><td>2</td><td>138.1199951171875</td></tr><tr><td>6</td><td>2024-12-01</td><td>Product_17</td><td>1</td><td>98.51000213623047</td></tr><tr><td>7</td><td>2024-12-01</td><td>Product_5</td><td>5</td><td>222.95000076293945</td></tr><tr><td>8</td><td>2024-12-01</td><td>Product_5</td><td>4</td><td>178.36000061035156</td></tr><tr><td>9</td><td>2024-12-02</td><td>Product_5</td><td>2</td><td>89.18000030517578</td></tr><tr><td>10</td><td>2024-12-02</td><td>Product_1</td><td>4</td><td>370.20001220703125</td></tr><tr><td>11</td><td>2024-12-02</td><td>Product_15</td><td>5</td><td>488.6000061035156</td></tr><tr><td>12</td><td>2024-12-02</td><td>Product_7</td><td>4</td><td>399.8399963378906</td></tr><tr><td>13</td><td>2024-12-02</td><td>Product_13</td><td>3</td><td>46.589999198913574</td></tr><tr><td>14</td><td>2024-12-03</td><td>Product_13</td><td>5</td><td>77.64999866485596</td></tr><tr><td>15</td><td>2024-12-03</td><td>Product_5</td><td>3</td><td>133.77000045776367</td></tr><tr><td>16</td><td>2024-12-03</td><td>Product_2</td><td>2</td><td>86.22000122070312</td></tr><tr><td>17</td><td>2024-12-05</td><td>Product_17</td><td>1</td><td>98.51000213623047</td></tr><tr><td>18</td><td>2024-12-05</td><td>Product_6</td><td>2</td><td>32.540000915527344</td></tr><tr><td>19</td><td>2024-12-05</td><td>Product_1</td><td>4</td><td>370.20001220703125</td></tr><tr><td>20</td><td>2024-12-05</td><td>Product_5</td><td>1</td><td>44.59000015258789</td></tr><tr><td>21</td><td>2024-12-05</td><td>Product_7</td><td>4</td><td>399.8399963378906</td></tr><tr><td>22</td><td>2024-12-05</td><td>Product_3</td><td>2</td><td>118.04000091552734</td></tr><tr><td>23</td><td>2024-12-06</td><td>Product_18</td><td>2</td><td>20.219999313354492</td></tr><tr><td>24</td><td>2024-12-06</td><td>Product_5</td><td>1</td><td>44.59000015258789</td></tr><tr><td>25</td><td>2024-12-06</td><td>Product_20</td><td>3</td><td>113.54999542236328</td></tr><tr><td>26</td><td>2024-12-06</td><td>Product_20</td><td>4</td><td>151.39999389648438</td></tr><tr><td>27</td><td>2024-12-06</td><td>Product_19</td><td>5</td><td>259.6999931335449</td></tr><tr><td>28</td><td>2024-12-06</td><td>Product_20</td><td>5</td><td>189.24999237060547</td></tr><tr><td>29</td><td>2024-12-06</td><td>Product_11</td><td>1</td><td>69.05999755859375</td></tr><tr><td>30</td><td>2024-12-06</td><td>Product_18</td><td>2</td><td>20.219999313354492</td></tr><tr><td>31</td><td>2024-12-06</td><td>Product_5</td><td>1</td><td>44.59000015258789</td></tr><tr><td>32</td><td>2024-12-06</td><td>Product_4</td><td>5</td><td>248.25000762939453</td></tr><tr><td>33</td><td>2024-12-07</td><td>Product_18</td><td>4</td><td>40.439998626708984</td></tr><tr><td>34</td><td>2024-12-07</td><td>Product_18</td><td>4</td><td>40.439998626708984</td></tr><tr><td>35</td><td>2024-12-07</td><td>Product_7</td><td>3</td><td>299.87999725341797</td></tr><tr><td>36</td><td>2024-12-07</td><td>Product_13</td><td>5</td><td>77.64999866485596</td></tr><tr><td>37</td><td>2024-12-09</td><td>Product_12</td><td>3</td><td>152.9700050354004</td></tr><tr><td>38</td><td>2024-12-09</td><td>Product_17</td><td>1</td><td>98.51000213623047</td></tr><tr><td>39</td><td>2024-12-09</td><td>Product_14</td><td>4</td><td>182.24000549316406</td></tr><tr><td>40</td><td>2024-12-09</td><td>Product_19</td><td>4</td><td>207.75999450683594</td></tr><tr><td>41</td><td>2024-12-09</td><td>Product_17</td><td>5</td><td>492.55001068115234</td></tr><tr><td>42</td><td>2024-12-09</td><td>Product_19</td><td>4</td><td>207.75999450683594</td></tr><tr><td>43</td><td>2024-12-09</td><td>Product_14</td><td>3</td><td>136.68000411987305</td></tr><tr><td>44</td><td>2024-12-10</td><td>Product_4</td><td>2</td><td>99.30000305175781</td></tr><tr><td>45</td><td>2024-12-10</td><td>Product_5</td><td>3</td><td>133.77000045776367</td></tr><tr><td>46</td><td>2024-12-10</td><td>Product_8</td><td>3</td><td>140.31000137329102</td></tr><tr><td>47</td><td>2024-12-10</td><td>Product_10</td><td>1</td><td>88.23999786376953</td></tr><tr><td>48</td><td>2024-12-10</td><td>Product_14</td><td>3</td><td>136.68000411987305</td></tr><tr><td>49</td><td>2024-12-10</td><td>Product_6</td><td>1</td><td>16.270000457763672</td></tr><tr><td>50</td><td>2024-12-10</td><td>Product_19</td><td>5</td><td>259.6999931335449</td></tr></tbody></table></div>"
      ]
     },
     "metadata": {
      "application/vnd.databricks.v1+output": {
       "addedWidgets": {},
       "aggData": [],
       "aggError": "",
       "aggOverflow": false,
       "aggSchema": [],
       "aggSeriesLimitReached": false,
       "aggType": "",
       "arguments": {},
       "columnCustomDisplayInfos": {},
       "data": [
        [
         "1",
         "2024-12-01",
         "Product_11",
         1,
         69.05999755859375
        ],
        [
         "2",
         "2024-12-01",
         "Product_17",
         2,
         197.02000427246094
        ],
        [
         "3",
         "2024-12-01",
         "Product_19",
         1,
         51.939998626708984
        ],
        [
         "4",
         "2024-12-01",
         "Product_12",
         1,
         50.9900016784668
        ],
        [
         "5",
         "2024-12-01",
         "Product_11",
         2,
         138.1199951171875
        ],
        [
         "6",
         "2024-12-01",
         "Product_17",
         1,
         98.51000213623047
        ],
        [
         "7",
         "2024-12-01",
         "Product_5",
         5,
         222.95000076293945
        ],
        [
         "8",
         "2024-12-01",
         "Product_5",
         4,
         178.36000061035156
        ],
        [
         "9",
         "2024-12-02",
         "Product_5",
         2,
         89.18000030517578
        ],
        [
         "10",
         "2024-12-02",
         "Product_1",
         4,
         370.20001220703125
        ],
        [
         "11",
         "2024-12-02",
         "Product_15",
         5,
         488.6000061035156
        ],
        [
         "12",
         "2024-12-02",
         "Product_7",
         4,
         399.8399963378906
        ],
        [
         "13",
         "2024-12-02",
         "Product_13",
         3,
         46.589999198913574
        ],
        [
         "14",
         "2024-12-03",
         "Product_13",
         5,
         77.64999866485596
        ],
        [
         "15",
         "2024-12-03",
         "Product_5",
         3,
         133.77000045776367
        ],
        [
         "16",
         "2024-12-03",
         "Product_2",
         2,
         86.22000122070312
        ],
        [
         "17",
         "2024-12-05",
         "Product_17",
         1,
         98.51000213623047
        ],
        [
         "18",
         "2024-12-05",
         "Product_6",
         2,
         32.540000915527344
        ],
        [
         "19",
         "2024-12-05",
         "Product_1",
         4,
         370.20001220703125
        ],
        [
         "20",
         "2024-12-05",
         "Product_5",
         1,
         44.59000015258789
        ],
        [
         "21",
         "2024-12-05",
         "Product_7",
         4,
         399.8399963378906
        ],
        [
         "22",
         "2024-12-05",
         "Product_3",
         2,
         118.04000091552734
        ],
        [
         "23",
         "2024-12-06",
         "Product_18",
         2,
         20.219999313354492
        ],
        [
         "24",
         "2024-12-06",
         "Product_5",
         1,
         44.59000015258789
        ],
        [
         "25",
         "2024-12-06",
         "Product_20",
         3,
         113.54999542236328
        ],
        [
         "26",
         "2024-12-06",
         "Product_20",
         4,
         151.39999389648438
        ],
        [
         "27",
         "2024-12-06",
         "Product_19",
         5,
         259.6999931335449
        ],
        [
         "28",
         "2024-12-06",
         "Product_20",
         5,
         189.24999237060547
        ],
        [
         "29",
         "2024-12-06",
         "Product_11",
         1,
         69.05999755859375
        ],
        [
         "30",
         "2024-12-06",
         "Product_18",
         2,
         20.219999313354492
        ],
        [
         "31",
         "2024-12-06",
         "Product_5",
         1,
         44.59000015258789
        ],
        [
         "32",
         "2024-12-06",
         "Product_4",
         5,
         248.25000762939453
        ],
        [
         "33",
         "2024-12-07",
         "Product_18",
         4,
         40.439998626708984
        ],
        [
         "34",
         "2024-12-07",
         "Product_18",
         4,
         40.439998626708984
        ],
        [
         "35",
         "2024-12-07",
         "Product_7",
         3,
         299.87999725341797
        ],
        [
         "36",
         "2024-12-07",
         "Product_13",
         5,
         77.64999866485596
        ],
        [
         "37",
         "2024-12-09",
         "Product_12",
         3,
         152.9700050354004
        ],
        [
         "38",
         "2024-12-09",
         "Product_17",
         1,
         98.51000213623047
        ],
        [
         "39",
         "2024-12-09",
         "Product_14",
         4,
         182.24000549316406
        ],
        [
         "40",
         "2024-12-09",
         "Product_19",
         4,
         207.75999450683594
        ],
        [
         "41",
         "2024-12-09",
         "Product_17",
         5,
         492.55001068115234
        ],
        [
         "42",
         "2024-12-09",
         "Product_19",
         4,
         207.75999450683594
        ],
        [
         "43",
         "2024-12-09",
         "Product_14",
         3,
         136.68000411987305
        ],
        [
         "44",
         "2024-12-10",
         "Product_4",
         2,
         99.30000305175781
        ],
        [
         "45",
         "2024-12-10",
         "Product_5",
         3,
         133.77000045776367
        ],
        [
         "46",
         "2024-12-10",
         "Product_8",
         3,
         140.31000137329102
        ],
        [
         "47",
         "2024-12-10",
         "Product_10",
         1,
         88.23999786376953
        ],
        [
         "48",
         "2024-12-10",
         "Product_14",
         3,
         136.68000411987305
        ],
        [
         "49",
         "2024-12-10",
         "Product_6",
         1,
         16.270000457763672
        ],
        [
         "50",
         "2024-12-10",
         "Product_19",
         5,
         259.6999931335449
        ]
       ],
       "datasetInfos": [],
       "dbfsResultPath": null,
       "isJsonSchema": true,
       "metadata": {},
       "overflow": false,
       "plotOptions": {
        "customPlotOptions": {},
        "displayType": "table",
        "pivotAggregation": null,
        "pivotColumns": null,
        "xColumns": null,
        "yColumns": null
       },
       "removedWidgets": [],
       "schema": [
        {
         "metadata": "{}",
         "name": "order_id",
         "type": "\"string\""
        },
        {
         "metadata": "{}",
         "name": "order_created_date",
         "type": "\"string\""
        },
        {
         "metadata": "{}",
         "name": "product_name",
         "type": "\"string\""
        },
        {
         "metadata": "{}",
         "name": "quantity",
         "type": "\"integer\""
        },
        {
         "metadata": "{}",
         "name": "total_price",
         "type": "\"double\""
        }
       ],
       "type": "table"
      }
     },
     "output_type": "display_data"
    }
   ],
   "source": [
    "from pyspark.sql.functions import regexp_replace\n",
    "\n",
    "df_joined_cleaned = df_joined.withColumn(\"order_created_date\", regexp_replace(\"order_created_date\", \"'\", \"\"))\n",
    "display(df_joined_cleaned)"
   ]
  },
  {
   "cell_type": "code",
   "execution_count": 0,
   "metadata": {
    "application/vnd.databricks.v1+cell": {
     "cellMetadata": {
      "byteLimit": 2048000,
      "rowLimit": 10000
     },
     "inputWidgets": {},
     "nuid": "77547801-6adb-4bcf-adaa-7f07626b18d6",
     "showTitle": false,
     "tableResultSettingsMap": {},
     "title": ""
    }
   },
   "outputs": [
    {
     "output_type": "display_data",
     "data": {
      "text/html": [
       "<style scoped>\n",
       "  .table-result-container {\n",
       "    max-height: 300px;\n",
       "    overflow: auto;\n",
       "  }\n",
       "  table, th, td {\n",
       "    border: 1px solid black;\n",
       "    border-collapse: collapse;\n",
       "  }\n",
       "  th, td {\n",
       "    padding: 5px;\n",
       "  }\n",
       "  th {\n",
       "    text-align: left;\n",
       "  }\n",
       "</style><div class='table-result-container'><table class='table-result'><thead style='background-color: white'><tr><th>order_id</th><th>order_created_date</th><th>product_name</th><th>quantity</th><th>total_price</th></tr></thead><tbody><tr><td>1</td><td>2024-12-01</td><td>Product_11</td><td>1</td><td>69.05999755859375</td></tr><tr><td>2</td><td>2024-12-01</td><td>Product_17</td><td>2</td><td>197.02000427246094</td></tr><tr><td>3</td><td>2024-12-01</td><td>Product_19</td><td>1</td><td>51.939998626708984</td></tr><tr><td>4</td><td>2024-12-01</td><td>Product_12</td><td>1</td><td>50.9900016784668</td></tr><tr><td>5</td><td>2024-12-01</td><td>Product_11</td><td>2</td><td>138.1199951171875</td></tr><tr><td>6</td><td>2024-12-01</td><td>Product_17</td><td>1</td><td>98.51000213623047</td></tr><tr><td>7</td><td>2024-12-01</td><td>Product_5</td><td>5</td><td>222.95000076293945</td></tr><tr><td>8</td><td>2024-12-01</td><td>Product_5</td><td>4</td><td>178.36000061035156</td></tr><tr><td>9</td><td>2024-12-02</td><td>Product_5</td><td>2</td><td>89.18000030517578</td></tr><tr><td>10</td><td>2024-12-02</td><td>Product_1</td><td>4</td><td>370.20001220703125</td></tr><tr><td>11</td><td>2024-12-02</td><td>Product_15</td><td>5</td><td>488.6000061035156</td></tr><tr><td>12</td><td>2024-12-02</td><td>Product_7</td><td>4</td><td>399.8399963378906</td></tr><tr><td>13</td><td>2024-12-02</td><td>Product_13</td><td>3</td><td>46.589999198913574</td></tr><tr><td>14</td><td>2024-12-03</td><td>Product_13</td><td>5</td><td>77.64999866485596</td></tr><tr><td>15</td><td>2024-12-03</td><td>Product_5</td><td>3</td><td>133.77000045776367</td></tr><tr><td>16</td><td>2024-12-03</td><td>Product_2</td><td>2</td><td>86.22000122070312</td></tr><tr><td>17</td><td>2024-12-05</td><td>Product_17</td><td>1</td><td>98.51000213623047</td></tr><tr><td>18</td><td>2024-12-05</td><td>Product_6</td><td>2</td><td>32.540000915527344</td></tr><tr><td>19</td><td>2024-12-05</td><td>Product_1</td><td>4</td><td>370.20001220703125</td></tr><tr><td>20</td><td>2024-12-05</td><td>Product_5</td><td>1</td><td>44.59000015258789</td></tr><tr><td>21</td><td>2024-12-05</td><td>Product_7</td><td>4</td><td>399.8399963378906</td></tr><tr><td>22</td><td>2024-12-05</td><td>Product_3</td><td>2</td><td>118.04000091552734</td></tr><tr><td>23</td><td>2024-12-06</td><td>Product_18</td><td>2</td><td>20.219999313354492</td></tr><tr><td>24</td><td>2024-12-06</td><td>Product_5</td><td>1</td><td>44.59000015258789</td></tr><tr><td>25</td><td>2024-12-06</td><td>Product_20</td><td>3</td><td>113.54999542236328</td></tr><tr><td>26</td><td>2024-12-06</td><td>Product_20</td><td>4</td><td>151.39999389648438</td></tr><tr><td>27</td><td>2024-12-06</td><td>Product_19</td><td>5</td><td>259.6999931335449</td></tr><tr><td>28</td><td>2024-12-06</td><td>Product_20</td><td>5</td><td>189.24999237060547</td></tr><tr><td>29</td><td>2024-12-06</td><td>Product_11</td><td>1</td><td>69.05999755859375</td></tr><tr><td>30</td><td>2024-12-06</td><td>Product_18</td><td>2</td><td>20.219999313354492</td></tr><tr><td>31</td><td>2024-12-06</td><td>Product_5</td><td>1</td><td>44.59000015258789</td></tr><tr><td>32</td><td>2024-12-06</td><td>Product_4</td><td>5</td><td>248.25000762939453</td></tr><tr><td>33</td><td>2024-12-07</td><td>Product_18</td><td>4</td><td>40.439998626708984</td></tr><tr><td>34</td><td>2024-12-07</td><td>Product_18</td><td>4</td><td>40.439998626708984</td></tr><tr><td>35</td><td>2024-12-07</td><td>Product_7</td><td>3</td><td>299.87999725341797</td></tr><tr><td>36</td><td>2024-12-07</td><td>Product_13</td><td>5</td><td>77.64999866485596</td></tr><tr><td>37</td><td>2024-12-09</td><td>Product_12</td><td>3</td><td>152.9700050354004</td></tr><tr><td>38</td><td>2024-12-09</td><td>Product_17</td><td>1</td><td>98.51000213623047</td></tr><tr><td>39</td><td>2024-12-09</td><td>Product_14</td><td>4</td><td>182.24000549316406</td></tr><tr><td>40</td><td>2024-12-09</td><td>Product_19</td><td>4</td><td>207.75999450683594</td></tr><tr><td>41</td><td>2024-12-09</td><td>Product_17</td><td>5</td><td>492.55001068115234</td></tr><tr><td>42</td><td>2024-12-09</td><td>Product_19</td><td>4</td><td>207.75999450683594</td></tr><tr><td>43</td><td>2024-12-09</td><td>Product_14</td><td>3</td><td>136.68000411987305</td></tr><tr><td>44</td><td>2024-12-10</td><td>Product_4</td><td>2</td><td>99.30000305175781</td></tr><tr><td>45</td><td>2024-12-10</td><td>Product_5</td><td>3</td><td>133.77000045776367</td></tr><tr><td>46</td><td>2024-12-10</td><td>Product_8</td><td>3</td><td>140.31000137329102</td></tr><tr><td>47</td><td>2024-12-10</td><td>Product_10</td><td>1</td><td>88.23999786376953</td></tr><tr><td>48</td><td>2024-12-10</td><td>Product_14</td><td>3</td><td>136.68000411987305</td></tr><tr><td>49</td><td>2024-12-10</td><td>Product_6</td><td>1</td><td>16.270000457763672</td></tr><tr><td>50</td><td>2024-12-10</td><td>Product_19</td><td>5</td><td>259.6999931335449</td></tr></tbody></table></div>"
      ]
     },
     "metadata": {
      "application/vnd.databricks.v1+output": {
       "addedWidgets": {},
       "aggData": [],
       "aggError": "",
       "aggOverflow": false,
       "aggSchema": [],
       "aggSeriesLimitReached": false,
       "aggType": "",
       "arguments": {},
       "columnCustomDisplayInfos": {},
       "data": [
        [
         "1",
         "2024-12-01",
         "Product_11",
         1,
         69.05999755859375
        ],
        [
         "2",
         "2024-12-01",
         "Product_17",
         2,
         197.02000427246094
        ],
        [
         "3",
         "2024-12-01",
         "Product_19",
         1,
         51.939998626708984
        ],
        [
         "4",
         "2024-12-01",
         "Product_12",
         1,
         50.9900016784668
        ],
        [
         "5",
         "2024-12-01",
         "Product_11",
         2,
         138.1199951171875
        ],
        [
         "6",
         "2024-12-01",
         "Product_17",
         1,
         98.51000213623047
        ],
        [
         "7",
         "2024-12-01",
         "Product_5",
         5,
         222.95000076293945
        ],
        [
         "8",
         "2024-12-01",
         "Product_5",
         4,
         178.36000061035156
        ],
        [
         "9",
         "2024-12-02",
         "Product_5",
         2,
         89.18000030517578
        ],
        [
         "10",
         "2024-12-02",
         "Product_1",
         4,
         370.20001220703125
        ],
        [
         "11",
         "2024-12-02",
         "Product_15",
         5,
         488.6000061035156
        ],
        [
         "12",
         "2024-12-02",
         "Product_7",
         4,
         399.8399963378906
        ],
        [
         "13",
         "2024-12-02",
         "Product_13",
         3,
         46.589999198913574
        ],
        [
         "14",
         "2024-12-03",
         "Product_13",
         5,
         77.64999866485596
        ],
        [
         "15",
         "2024-12-03",
         "Product_5",
         3,
         133.77000045776367
        ],
        [
         "16",
         "2024-12-03",
         "Product_2",
         2,
         86.22000122070312
        ],
        [
         "17",
         "2024-12-05",
         "Product_17",
         1,
         98.51000213623047
        ],
        [
         "18",
         "2024-12-05",
         "Product_6",
         2,
         32.540000915527344
        ],
        [
         "19",
         "2024-12-05",
         "Product_1",
         4,
         370.20001220703125
        ],
        [
         "20",
         "2024-12-05",
         "Product_5",
         1,
         44.59000015258789
        ],
        [
         "21",
         "2024-12-05",
         "Product_7",
         4,
         399.8399963378906
        ],
        [
         "22",
         "2024-12-05",
         "Product_3",
         2,
         118.04000091552734
        ],
        [
         "23",
         "2024-12-06",
         "Product_18",
         2,
         20.219999313354492
        ],
        [
         "24",
         "2024-12-06",
         "Product_5",
         1,
         44.59000015258789
        ],
        [
         "25",
         "2024-12-06",
         "Product_20",
         3,
         113.54999542236328
        ],
        [
         "26",
         "2024-12-06",
         "Product_20",
         4,
         151.39999389648438
        ],
        [
         "27",
         "2024-12-06",
         "Product_19",
         5,
         259.6999931335449
        ],
        [
         "28",
         "2024-12-06",
         "Product_20",
         5,
         189.24999237060547
        ],
        [
         "29",
         "2024-12-06",
         "Product_11",
         1,
         69.05999755859375
        ],
        [
         "30",
         "2024-12-06",
         "Product_18",
         2,
         20.219999313354492
        ],
        [
         "31",
         "2024-12-06",
         "Product_5",
         1,
         44.59000015258789
        ],
        [
         "32",
         "2024-12-06",
         "Product_4",
         5,
         248.25000762939453
        ],
        [
         "33",
         "2024-12-07",
         "Product_18",
         4,
         40.439998626708984
        ],
        [
         "34",
         "2024-12-07",
         "Product_18",
         4,
         40.439998626708984
        ],
        [
         "35",
         "2024-12-07",
         "Product_7",
         3,
         299.87999725341797
        ],
        [
         "36",
         "2024-12-07",
         "Product_13",
         5,
         77.64999866485596
        ],
        [
         "37",
         "2024-12-09",
         "Product_12",
         3,
         152.9700050354004
        ],
        [
         "38",
         "2024-12-09",
         "Product_17",
         1,
         98.51000213623047
        ],
        [
         "39",
         "2024-12-09",
         "Product_14",
         4,
         182.24000549316406
        ],
        [
         "40",
         "2024-12-09",
         "Product_19",
         4,
         207.75999450683594
        ],
        [
         "41",
         "2024-12-09",
         "Product_17",
         5,
         492.55001068115234
        ],
        [
         "42",
         "2024-12-09",
         "Product_19",
         4,
         207.75999450683594
        ],
        [
         "43",
         "2024-12-09",
         "Product_14",
         3,
         136.68000411987305
        ],
        [
         "44",
         "2024-12-10",
         "Product_4",
         2,
         99.30000305175781
        ],
        [
         "45",
         "2024-12-10",
         "Product_5",
         3,
         133.77000045776367
        ],
        [
         "46",
         "2024-12-10",
         "Product_8",
         3,
         140.31000137329102
        ],
        [
         "47",
         "2024-12-10",
         "Product_10",
         1,
         88.23999786376953
        ],
        [
         "48",
         "2024-12-10",
         "Product_14",
         3,
         136.68000411987305
        ],
        [
         "49",
         "2024-12-10",
         "Product_6",
         1,
         16.270000457763672
        ],
        [
         "50",
         "2024-12-10",
         "Product_19",
         5,
         259.6999931335449
        ]
       ],
       "datasetInfos": [],
       "dbfsResultPath": null,
       "isJsonSchema": true,
       "metadata": {},
       "overflow": false,
       "plotOptions": {
        "customPlotOptions": {},
        "displayType": "table",
        "pivotAggregation": null,
        "pivotColumns": null,
        "xColumns": null,
        "yColumns": null
       },
       "removedWidgets": [],
       "schema": [
        {
         "metadata": "{}",
         "name": "order_id",
         "type": "\"string\""
        },
        {
         "metadata": "{}",
         "name": "order_created_date",
         "type": "\"date\""
        },
        {
         "metadata": "{}",
         "name": "product_name",
         "type": "\"string\""
        },
        {
         "metadata": "{}",
         "name": "quantity",
         "type": "\"integer\""
        },
        {
         "metadata": "{}",
         "name": "total_price",
         "type": "\"double\""
        }
       ],
       "type": "table"
      }
     },
     "output_type": "display_data"
    }
   ],
   "source": [
    "from pyspark.sql.functions import to_date\n",
    "\n",
    "df_joined_casted = df_joined_cleaned.withColumn(\"order_created_date\", to_date(\"order_created_date\", \"yyyy-MM-dd\"))\n",
    "display(df_joined_casted)"
   ]
  },
  {
   "cell_type": "code",
   "execution_count": 0,
   "metadata": {
    "application/vnd.databricks.v1+cell": {
     "cellMetadata": {
      "byteLimit": 2048000,
      "rowLimit": 10000
     },
     "inputWidgets": {},
     "nuid": "55110705-bb3b-4294-8f33-b6a21855ed4a",
     "showTitle": false,
     "tableResultSettingsMap": {},
     "title": ""
    }
   },
   "outputs": [],
   "source": [
    "volume_path = \"/Volumes/zubale/challenge1/output/order_full_information.csv\"\n",
    "df_joined_casted.write.mode('overwrite').csv(volume_path, header=True)"
   ]
  },
  {
   "cell_type": "code",
   "execution_count": 0,
   "metadata": {
    "application/vnd.databricks.v1+cell": {
     "cellMetadata": {
      "byteLimit": 2048000,
      "rowLimit": 10000
     },
     "inputWidgets": {},
     "nuid": "2f016e86-ee62-48d4-8dde-4c45e7d678f0",
     "showTitle": false,
     "tableResultSettingsMap": {},
     "title": ""
    }
   },
   "outputs": [],
   "source": [
    "silver_path = \"zubale.silver\""
   ]
  },
  {
   "cell_type": "code",
   "execution_count": 0,
   "metadata": {
    "application/vnd.databricks.v1+cell": {
     "cellMetadata": {
      "byteLimit": 2048000,
      "rowLimit": 10000
     },
     "inputWidgets": {},
     "nuid": "a1d5bbcd-234c-42d2-bb9c-267782c44fd2",
     "showTitle": false,
     "tableResultSettingsMap": {},
     "title": ""
    }
   },
   "outputs": [],
   "source": [
    "df_joined_casted.write.mode('overwrite').saveAsTable(f\"{silver_path}.zubaleOrdersDetail\")"
   ]
  }
 ],
 "metadata": {
  "application/vnd.databricks.v1+notebook": {
   "computePreferences": null,
   "dashboards": [],
   "environmentMetadata": {
    "base_environment": "",
    "environment_version": "2"
   },
   "inputWidgetPreferences": null,
   "language": "python",
   "notebookMetadata": {
    "mostRecentlyExecutedCommandWithImplicitDF": {
     "commandId": 7775716610927138,
     "dataframes": [
      "_sqldf"
     ]
    },
    "pythonIndentUnit": 4
   },
   "notebookName": "Challenge #1",
   "widgets": {}
  },
  "language_info": {
   "name": "python"
  }
 },
 "nbformat": 4,
 "nbformat_minor": 0
}