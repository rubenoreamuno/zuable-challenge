{
 "cells": [
  {
   "cell_type": "code",
   "execution_count": 0,
   "metadata": {
    "application/vnd.databricks.v1+cell": {
     "cellMetadata": {
      "byteLimit": 2048000,
      "rowLimit": 10000
     },
     "inputWidgets": {},
     "nuid": "45ab498a-9672-4da7-9262-a934c8b99e9c",
     "showTitle": false,
     "tableResultSettingsMap": {},
     "title": ""
    }
   },
   "outputs": [],
   "source": [
    "from pyspark.sql.types import *\n",
    "from pyspark.sql.functions import *"
   ]
  },
  {
   "cell_type": "markdown",
   "metadata": {
    "application/vnd.databricks.v1+cell": {
     "cellMetadata": {
      "byteLimit": 2048000,
      "rowLimit": 10000
     },
     "inputWidgets": {},
     "nuid": "d71065d0-d41d-4dad-a35f-7b2c8498c3b9",
     "showTitle": false,
     "tableResultSettingsMap": {},
     "title": ""
    }
   },
   "source": [
    "# Extract"
   ]
  },
  {
   "cell_type": "code",
   "execution_count": 0,
   "metadata": {
    "application/vnd.databricks.v1+cell": {
     "cellMetadata": {
      "byteLimit": 2048000,
      "rowLimit": 10000
     },
     "inputWidgets": {},
     "nuid": "ec060a23-5075-410f-bbde-215f16134bc1",
     "showTitle": false,
     "tableResultSettingsMap": {},
     "title": ""
    }
   },
   "outputs": [],
   "source": [
    "df_products_path = \"/Volumes/zubale/challenge1/products/zubale-products.csv\"\n",
    "df_orders_path = \"/Volumes/zubale/challenge1/orders/zubale-orders.csv\""
   ]
  },
  {
   "cell_type": "code",
   "execution_count": 0,
   "metadata": {
    "application/vnd.databricks.v1+cell": {
     "cellMetadata": {
      "byteLimit": 2048000,
      "rowLimit": 10000
     },
     "inputWidgets": {},
     "nuid": "4f25b8e2-13d6-4ba2-bfa9-6f79413d1d8d",
     "showTitle": false,
     "tableResultSettingsMap": {},
     "title": ""
    }
   },
   "outputs": [],
   "source": [
    "# Schema for the products table.\n",
    "products_schema= StructType([\n",
    "StructField('id',StringType(),nullable=True ),\n",
    "StructField('name',StringType(),nullable=True),\n",
    "StructField('category',StringType(),nullable=True),\n",
    "StructField('price',FloatType(),nullable=True)\n",
    "])"
   ]
  },
  {
   "cell_type": "code",
   "execution_count": 0,
   "metadata": {
    "application/vnd.databricks.v1+cell": {
     "cellMetadata": {
      "byteLimit": 2048000,
      "rowLimit": 10000
     },
     "inputWidgets": {},
     "nuid": "3996bc44-10f1-4d1e-816f-c4ff73c4548c",
     "showTitle": false,
     "tableResultSettingsMap": {},
     "title": ""
    }
   },
   "outputs": [],
   "source": [
    "# Schema for the orders table.\n",
    "orders_schema= StructType([\n",
    "StructField('id',StringType(),nullable=True ),\n",
    "StructField('product_id',StringType(),nullable=True),\n",
    "StructField('quantity',IntegerType(),nullable=True),\n",
    "StructField('created_date',StringType(),nullable=True)\n",
    "])"
   ]
  },
  {
   "cell_type": "code",
   "execution_count": 0,
   "metadata": {
    "application/vnd.databricks.v1+cell": {
     "cellMetadata": {
      "byteLimit": 2048000,
      "rowLimit": 10000
     },
     "inputWidgets": {},
     "nuid": "a448b4fa-9c6d-4c1b-a3ea-e0320e05cbfb",
     "showTitle": false,
     "tableResultSettingsMap": {},
     "title": ""
    }
   },
   "outputs": [],
   "source": [
    "df_products = spark.read.schema(products_schema).csv(df_products_path, sep=\",\", header=True)\n",
    "df_orders = spark.read.schema(orders_schema).csv(df_orders_path, sep=\",\", header=True)\n",
    "#display(df_products)\n",
    "#display(df_orders)"
   ]
  },
  {
   "cell_type": "code",
   "execution_count": 0,
   "metadata": {
    "application/vnd.databricks.v1+cell": {
     "cellMetadata": {
      "byteLimit": 2048000,
      "rowLimit": 10000
     },
     "inputWidgets": {},
     "nuid": "372ab831-9d10-49aa-b22c-644af7feac81",
     "showTitle": false,
     "tableResultSettingsMap": {},
     "title": ""
    }
   },
   "outputs": [
    {
     "output_type": "display_data",
     "data": {
      "text/html": [
       "<style scoped>\n",
       "  .table-result-container {\n",
       "    max-height: 300px;\n",
       "    overflow: auto;\n",
       "  }\n",
       "  table, th, td {\n",
       "    border: 1px solid black;\n",
       "    border-collapse: collapse;\n",
       "  }\n",
       "  th, td {\n",
       "    padding: 5px;\n",
       "  }\n",
       "  th {\n",
       "    text-align: left;\n",
       "  }\n",
       "</style><div class='table-result-container'><table class='table-result'><thead style='background-color: white'><tr><th>id</th><th>name</th><th>category</th><th>price</th></tr></thead><tbody><tr><td>1</td><td>Product_1</td><td>Pants</td><td>92.55</td></tr><tr><td>2</td><td>Product_2</td><td>Shirts</td><td>43.11</td></tr><tr><td>3</td><td>Product_3</td><td>Jackets</td><td>59.02</td></tr><tr><td>4</td><td>Product_4</td><td>Shoes</td><td>49.65</td></tr><tr><td>5</td><td>Product_5</td><td>Pants</td><td>44.59</td></tr></tbody></table></div>"
      ]
     },
     "metadata": {
      "application/vnd.databricks.v1+output": {
       "addedWidgets": {},
       "aggData": [],
       "aggError": "",
       "aggOverflow": false,
       "aggSchema": [],
       "aggSeriesLimitReached": false,
       "aggType": "",
       "arguments": {},
       "columnCustomDisplayInfos": {},
       "data": [
        [
         "1",
         "Product_1",
         "Pants",
         92.55
        ],
        [
         "2",
         "Product_2",
         "Shirts",
         43.11
        ],
        [
         "3",
         "Product_3",
         "Jackets",
         59.02
        ],
        [
         "4",
         "Product_4",
         "Shoes",
         49.65
        ],
        [
         "5",
         "Product_5",
         "Pants",
         44.59
        ]
       ],
       "datasetInfos": [],
       "dbfsResultPath": null,
       "isJsonSchema": true,
       "metadata": {},
       "overflow": false,
       "plotOptions": {
        "customPlotOptions": {},
        "displayType": "table",
        "pivotAggregation": null,
        "pivotColumns": null,
        "xColumns": null,
        "yColumns": null
       },
       "removedWidgets": [],
       "schema": [
        {
         "metadata": "{}",
         "name": "id",
         "type": "\"string\""
        },
        {
         "metadata": "{}",
         "name": "name",
         "type": "\"string\""
        },
        {
         "metadata": "{}",
         "name": "category",
         "type": "\"string\""
        },
        {
         "metadata": "{}",
         "name": "price",
         "type": "\"float\""
        }
       ],
       "type": "table"
      }
     },
     "output_type": "display_data"
    },
    {
     "output_type": "display_data",
     "data": {
      "text/html": [
       "<style scoped>\n",
       "  .table-result-container {\n",
       "    max-height: 300px;\n",
       "    overflow: auto;\n",
       "  }\n",
       "  table, th, td {\n",
       "    border: 1px solid black;\n",
       "    border-collapse: collapse;\n",
       "  }\n",
       "  th, td {\n",
       "    padding: 5px;\n",
       "  }\n",
       "  th {\n",
       "    text-align: left;\n",
       "  }\n",
       "</style><div class='table-result-container'><table class='table-result'><thead style='background-color: white'><tr><th>id</th><th>product_id</th><th>quantity</th><th>created_date</th></tr></thead><tbody><tr><td>1</td><td>11</td><td>1</td><td>'2024-12-01'</td></tr><tr><td>2</td><td>17</td><td>2</td><td>'2024-12-01'</td></tr><tr><td>3</td><td>19</td><td>1</td><td>'2024-12-01'</td></tr><tr><td>4</td><td>12</td><td>1</td><td>'2024-12-01'</td></tr><tr><td>5</td><td>11</td><td>2</td><td>'2024-12-01'</td></tr></tbody></table></div>"
      ]
     },
     "metadata": {
      "application/vnd.databricks.v1+output": {
       "addedWidgets": {},
       "aggData": [],
       "aggError": "",
       "aggOverflow": false,
       "aggSchema": [],
       "aggSeriesLimitReached": false,
       "aggType": "",
       "arguments": {},
       "columnCustomDisplayInfos": {},
       "data": [
        [
         "1",
         "11",
         1,
         "'2024-12-01'"
        ],
        [
         "2",
         "17",
         2,
         "'2024-12-01'"
        ],
        [
         "3",
         "19",
         1,
         "'2024-12-01'"
        ],
        [
         "4",
         "12",
         1,
         "'2024-12-01'"
        ],
        [
         "5",
         "11",
         2,
         "'2024-12-01'"
        ]
       ],
       "datasetInfos": [],
       "dbfsResultPath": null,
       "isJsonSchema": true,
       "metadata": {},
       "overflow": false,
       "plotOptions": {
        "customPlotOptions": {},
        "displayType": "table",
        "pivotAggregation": null,
        "pivotColumns": null,
        "xColumns": null,
        "yColumns": null
       },
       "removedWidgets": [],
       "schema": [
        {
         "metadata": "{}",
         "name": "id",
         "type": "\"string\""
        },
        {
         "metadata": "{}",
         "name": "product_id",
         "type": "\"string\""
        },
        {
         "metadata": "{}",
         "name": "quantity",
         "type": "\"integer\""
        },
        {
         "metadata": "{}",
         "name": "created_date",
         "type": "\"string\""
        }
       ],
       "type": "table"
      }
     },
     "output_type": "display_data"
    }
   ],
   "source": [
    "df_products.limit(5).display()\n",
    "df_orders.limit(5).display()"
   ]
  },
  {
   "cell_type": "code",
   "execution_count": 0,
   "metadata": {
    "application/vnd.databricks.v1+cell": {
     "cellMetadata": {
      "byteLimit": 2048000,
      "rowLimit": 10000
     },
     "inputWidgets": {},
     "nuid": "d59f75e7-faa6-4080-99f0-264613261944",
     "showTitle": false,
     "tableResultSettingsMap": {},
     "title": ""
    }
   },
   "outputs": [],
   "source": [
    "bronze_path = 'zubale.bronze'"
   ]
  },
  {
   "cell_type": "code",
   "execution_count": 0,
   "metadata": {
    "application/vnd.databricks.v1+cell": {
     "cellMetadata": {
      "byteLimit": 2048000,
      "rowLimit": 10000
     },
     "inputWidgets": {},
     "nuid": "2a0b19ee-75ce-4744-8f6b-299565ef6c15",
     "showTitle": false,
     "tableResultSettingsMap": {},
     "title": ""
    }
   },
   "outputs": [],
   "source": [
    "# Save to a table.\n",
    "df_orders.write.mode('overwrite').format(\"delta\").saveAsTable(f\"{bronze_path}.zubaleOrders\")\n",
    "df_products.write.mode('overwrite').format(\"delta\").saveAsTable(f\"{bronze_path}.zubaleProducts\")"
   ]
  },
  {
   "cell_type": "markdown",
   "metadata": {
    "application/vnd.databricks.v1+cell": {
     "cellMetadata": {
      "byteLimit": 2048000,
      "rowLimit": 10000
     },
     "inputWidgets": {},
     "nuid": "ca076e33-f72f-484d-82c2-43315ccbbc52",
     "showTitle": false,
     "tableResultSettingsMap": {},
     "title": ""
    }
   },
   "source": [
    "# Transform"
   ]
  },
  {
   "cell_type": "code",
   "execution_count": 0,
   "metadata": {
    "application/vnd.databricks.v1+cell": {
     "cellMetadata": {
      "byteLimit": 2048000,
      "rowLimit": 10000
     },
     "inputWidgets": {},
     "nuid": "065991a4-e8fd-4d7a-998e-f338c752885f",
     "showTitle": false,
     "tableResultSettingsMap": {},
     "title": ""
    }
   },
   "outputs": [],
   "source": [
    "from pyspark.sql.types import *\n",
    "import pyspark.sql.functions as F\n",
    "from pyspark.sql.functions import udf, col"
   ]
  },
  {
   "cell_type": "code",
   "execution_count": 0,
   "metadata": {
    "application/vnd.databricks.v1+cell": {
     "cellMetadata": {
      "byteLimit": 2048000,
      "rowLimit": 10000
     },
     "inputWidgets": {},
     "nuid": "11a09fd9-08c3-458f-82d9-758d6a5a5203",
     "showTitle": false,
     "tableResultSettingsMap": {},
     "title": ""
    }
   },
   "outputs": [],
   "source": [
    "# Read the tables.\n",
    "df_products = spark.table(\"zubale.bronze.zubaleProducts\")\n",
    "df_orders = spark.table(\"zubale.bronze.zubaleOrders\")"
   ]
  },
  {
   "cell_type": "code",
   "execution_count": 0,
   "metadata": {
    "application/vnd.databricks.v1+cell": {
     "cellMetadata": {
      "byteLimit": 2048000,
      "rowLimit": 10000
     },
     "inputWidgets": {},
     "nuid": "6b3b508b-7983-4ef3-aa6b-071cdad4b955",
     "showTitle": false,
     "tableResultSettingsMap": {},
     "title": ""
    }
   },
   "outputs": [
    {
     "output_type": "display_data",
     "data": {
      "text/html": [
       "<style scoped>\n",
       "  .table-result-container {\n",
       "    max-height: 300px;\n",
       "    overflow: auto;\n",
       "  }\n",
       "  table, th, td {\n",
       "    border: 1px solid black;\n",
       "    border-collapse: collapse;\n",
       "  }\n",
       "  th, td {\n",
       "    padding: 5px;\n",
       "  }\n",
       "  th {\n",
       "    text-align: left;\n",
       "  }\n",
       "</style><div class='table-result-container'><table class='table-result'><thead style='background-color: white'><tr><th>order_id</th><th>order_created_date</th><th>product_name</th><th>quantity</th><th>total_price</th></tr></thead><tbody><tr><td>1</td><td>'2024-12-01'</td><td>Product_11</td><td>1</td><td>69.05999755859375</td></tr><tr><td>2</td><td>'2024-12-01'</td><td>Product_17</td><td>2</td><td>197.02000427246094</td></tr><tr><td>3</td><td>'2024-12-01'</td><td>Product_19</td><td>1</td><td>51.939998626708984</td></tr><tr><td>4</td><td>'2024-12-01'</td><td>Product_12</td><td>1</td><td>50.9900016784668</td></tr><tr><td>5</td><td>'2024-12-01'</td><td>Product_11</td><td>2</td><td>138.1199951171875</td></tr></tbody></table></div>"
      ]
     },
     "metadata": {
      "application/vnd.databricks.v1+output": {
       "addedWidgets": {},
       "aggData": [],
       "aggError": "",
       "aggOverflow": false,
       "aggSchema": [],
       "aggSeriesLimitReached": false,
       "aggType": "",
       "arguments": {},
       "columnCustomDisplayInfos": {},
       "data": [
        [
         "1",
         "'2024-12-01'",
         "Product_11",
         1,
         69.05999755859375
        ],
        [
         "2",
         "'2024-12-01'",
         "Product_17",
         2,
         197.02000427246094
        ],
        [
         "3",
         "'2024-12-01'",
         "Product_19",
         1,
         51.939998626708984
        ],
        [
         "4",
         "'2024-12-01'",
         "Product_12",
         1,
         50.9900016784668
        ],
        [
         "5",
         "'2024-12-01'",
         "Product_11",
         2,
         138.1199951171875
        ]
       ],
       "datasetInfos": [],
       "dbfsResultPath": null,
       "isJsonSchema": true,
       "metadata": {},
       "overflow": false,
       "plotOptions": {
        "customPlotOptions": {},
        "displayType": "table",
        "pivotAggregation": null,
        "pivotColumns": null,
        "xColumns": null,
        "yColumns": null
       },
       "removedWidgets": [],
       "schema": [
        {
         "metadata": "{}",
         "name": "order_id",
         "type": "\"string\""
        },
        {
         "metadata": "{}",
         "name": "order_created_date",
         "type": "\"string\""
        },
        {
         "metadata": "{}",
         "name": "product_name",
         "type": "\"string\""
        },
        {
         "metadata": "{}",
         "name": "quantity",
         "type": "\"integer\""
        },
        {
         "metadata": "{}",
         "name": "total_price",
         "type": "\"double\""
        }
       ],
       "type": "table"
      }
     },
     "output_type": "display_data"
    }
   ],
   "source": [
    "#Left join for the products and orders tables.\n",
    "# And leave only the columns for: order_id, created_date, product_name, quantity.\n",
    "df_joined = df_orders.join(df_products, df_products.id == df_orders.product_id, \"left\").select(\n",
    "    df_orders.id.alias(\"order_id\"),\n",
    "    df_orders.created_date.alias(\"order_created_date\"),\n",
    "    df_products.name.alias(\"product_name\"),\n",
    "    df_orders.quantity.alias(\"quantity\"),\n",
    "    (df_orders.quantity * df_products.price).alias(\"total_price\")\n",
    ")\n",
    "df_joined.limit(5).display()"
   ]
  },
  {
   "cell_type": "code",
   "execution_count": 0,
   "metadata": {
    "application/vnd.databricks.v1+cell": {
     "cellMetadata": {
      "byteLimit": 2048000,
      "rowLimit": 10000
     },
     "inputWidgets": {},
     "nuid": "f788991b-30d8-49b3-87bb-44ab7679c4ec",
     "showTitle": false,
     "tableResultSettingsMap": {},
     "title": ""
    }
   },
   "outputs": [
    {
     "output_type": "display_data",
     "data": {
      "text/html": [
       "<style scoped>\n",
       "  .table-result-container {\n",
       "    max-height: 300px;\n",
       "    overflow: auto;\n",
       "  }\n",
       "  table, th, td {\n",
       "    border: 1px solid black;\n",
       "    border-collapse: collapse;\n",
       "  }\n",
       "  th, td {\n",
       "    padding: 5px;\n",
       "  }\n",
       "  th {\n",
       "    text-align: left;\n",
       "  }\n",
       "</style><div class='table-result-container'><table class='table-result'><thead style='background-color: white'><tr><th>order_id</th><th>order_created_date</th><th>product_name</th><th>quantity</th><th>total_price</th></tr></thead><tbody><tr><td>1</td><td>2024-12-01</td><td>Product_11</td><td>1</td><td>69.05999755859375</td></tr><tr><td>2</td><td>2024-12-01</td><td>Product_17</td><td>2</td><td>197.02000427246094</td></tr><tr><td>3</td><td>2024-12-01</td><td>Product_19</td><td>1</td><td>51.939998626708984</td></tr><tr><td>4</td><td>2024-12-01</td><td>Product_12</td><td>1</td><td>50.9900016784668</td></tr><tr><td>5</td><td>2024-12-01</td><td>Product_11</td><td>2</td><td>138.1199951171875</td></tr></tbody></table></div>"
      ]
     },
     "metadata": {
      "application/vnd.databricks.v1+output": {
       "addedWidgets": {},
       "aggData": [],
       "aggError": "",
       "aggOverflow": false,
       "aggSchema": [],
       "aggSeriesLimitReached": false,
       "aggType": "",
       "arguments": {},
       "columnCustomDisplayInfos": {},
       "data": [
        [
         "1",
         "2024-12-01",
         "Product_11",
         1,
         69.05999755859375
        ],
        [
         "2",
         "2024-12-01",
         "Product_17",
         2,
         197.02000427246094
        ],
        [
         "3",
         "2024-12-01",
         "Product_19",
         1,
         51.939998626708984
        ],
        [
         "4",
         "2024-12-01",
         "Product_12",
         1,
         50.9900016784668
        ],
        [
         "5",
         "2024-12-01",
         "Product_11",
         2,
         138.1199951171875
        ]
       ],
       "datasetInfos": [],
       "dbfsResultPath": null,
       "isJsonSchema": true,
       "metadata": {},
       "overflow": false,
       "plotOptions": {
        "customPlotOptions": {},
        "displayType": "table",
        "pivotAggregation": null,
        "pivotColumns": null,
        "xColumns": null,
        "yColumns": null
       },
       "removedWidgets": [],
       "schema": [
        {
         "metadata": "{}",
         "name": "order_id",
         "type": "\"string\""
        },
        {
         "metadata": "{}",
         "name": "order_created_date",
         "type": "\"string\""
        },
        {
         "metadata": "{}",
         "name": "product_name",
         "type": "\"string\""
        },
        {
         "metadata": "{}",
         "name": "quantity",
         "type": "\"integer\""
        },
        {
         "metadata": "{}",
         "name": "total_price",
         "type": "\"double\""
        }
       ],
       "type": "table"
      }
     },
     "output_type": "display_data"
    }
   ],
   "source": [
    "from pyspark.sql.functions import regexp_replace\n",
    "\n",
    "df_joined_cleaned = df_joined.withColumn(\"order_created_date\", regexp_replace(\"order_created_date\", \"'\", \"\"))\n",
    "df_joined_cleaned.limit(5).display()"
   ]
  },
  {
   "cell_type": "code",
   "execution_count": 0,
   "metadata": {
    "application/vnd.databricks.v1+cell": {
     "cellMetadata": {
      "byteLimit": 2048000,
      "rowLimit": 10000
     },
     "inputWidgets": {},
     "nuid": "77547801-6adb-4bcf-adaa-7f07626b18d6",
     "showTitle": false,
     "tableResultSettingsMap": {},
     "title": ""
    }
   },
   "outputs": [
    {
     "output_type": "display_data",
     "data": {
      "text/html": [
       "<style scoped>\n",
       "  .table-result-container {\n",
       "    max-height: 300px;\n",
       "    overflow: auto;\n",
       "  }\n",
       "  table, th, td {\n",
       "    border: 1px solid black;\n",
       "    border-collapse: collapse;\n",
       "  }\n",
       "  th, td {\n",
       "    padding: 5px;\n",
       "  }\n",
       "  th {\n",
       "    text-align: left;\n",
       "  }\n",
       "</style><div class='table-result-container'><table class='table-result'><thead style='background-color: white'><tr><th>order_id</th><th>order_created_date</th><th>product_name</th><th>quantity</th><th>total_price</th></tr></thead><tbody><tr><td>1</td><td>2024-12-01</td><td>Product_11</td><td>1</td><td>69.05999755859375</td></tr><tr><td>2</td><td>2024-12-01</td><td>Product_17</td><td>2</td><td>197.02000427246094</td></tr><tr><td>3</td><td>2024-12-01</td><td>Product_19</td><td>1</td><td>51.939998626708984</td></tr><tr><td>4</td><td>2024-12-01</td><td>Product_12</td><td>1</td><td>50.9900016784668</td></tr><tr><td>5</td><td>2024-12-01</td><td>Product_11</td><td>2</td><td>138.1199951171875</td></tr></tbody></table></div>"
      ]
     },
     "metadata": {
      "application/vnd.databricks.v1+output": {
       "addedWidgets": {},
       "aggData": [],
       "aggError": "",
       "aggOverflow": false,
       "aggSchema": [],
       "aggSeriesLimitReached": false,
       "aggType": "",
       "arguments": {},
       "columnCustomDisplayInfos": {},
       "data": [
        [
         "1",
         "2024-12-01",
         "Product_11",
         1,
         69.05999755859375
        ],
        [
         "2",
         "2024-12-01",
         "Product_17",
         2,
         197.02000427246094
        ],
        [
         "3",
         "2024-12-01",
         "Product_19",
         1,
         51.939998626708984
        ],
        [
         "4",
         "2024-12-01",
         "Product_12",
         1,
         50.9900016784668
        ],
        [
         "5",
         "2024-12-01",
         "Product_11",
         2,
         138.1199951171875
        ]
       ],
       "datasetInfos": [],
       "dbfsResultPath": null,
       "isJsonSchema": true,
       "metadata": {},
       "overflow": false,
       "plotOptions": {
        "customPlotOptions": {},
        "displayType": "table",
        "pivotAggregation": null,
        "pivotColumns": null,
        "xColumns": null,
        "yColumns": null
       },
       "removedWidgets": [],
       "schema": [
        {
         "metadata": "{}",
         "name": "order_id",
         "type": "\"string\""
        },
        {
         "metadata": "{}",
         "name": "order_created_date",
         "type": "\"date\""
        },
        {
         "metadata": "{}",
         "name": "product_name",
         "type": "\"string\""
        },
        {
         "metadata": "{}",
         "name": "quantity",
         "type": "\"integer\""
        },
        {
         "metadata": "{}",
         "name": "total_price",
         "type": "\"double\""
        }
       ],
       "type": "table"
      }
     },
     "output_type": "display_data"
    }
   ],
   "source": [
    "from pyspark.sql.functions import to_date\n",
    "\n",
    "df_joined_casted = df_joined_cleaned.withColumn(\"order_created_date\", to_date(\"order_created_date\", \"yyyy-MM-dd\"))\n",
    "df_joined_casted.limit(5).display()"
   ]
  },
  {
   "cell_type": "code",
   "execution_count": 0,
   "metadata": {
    "application/vnd.databricks.v1+cell": {
     "cellMetadata": {
      "byteLimit": 2048000,
      "rowLimit": 10000
     },
     "inputWidgets": {},
     "nuid": "55110705-bb3b-4294-8f33-b6a21855ed4a",
     "showTitle": false,
     "tableResultSettingsMap": {},
     "title": ""
    }
   },
   "outputs": [],
   "source": [
    "volume_path = \"/Volumes/zubale/challenge1/output/order_full_information.csv\"\n",
    "df_joined_casted.write.mode('overwrite').csv(volume_path, header=True)"
   ]
  },
  {
   "cell_type": "code",
   "execution_count": 0,
   "metadata": {
    "application/vnd.databricks.v1+cell": {
     "cellMetadata": {
      "byteLimit": 2048000,
      "rowLimit": 10000
     },
     "inputWidgets": {},
     "nuid": "2f016e86-ee62-48d4-8dde-4c45e7d678f0",
     "showTitle": false,
     "tableResultSettingsMap": {},
     "title": ""
    }
   },
   "outputs": [],
   "source": [
    "silver_path = \"zubale.silver\""
   ]
  },
  {
   "cell_type": "code",
   "execution_count": 0,
   "metadata": {
    "application/vnd.databricks.v1+cell": {
     "cellMetadata": {
      "byteLimit": 2048000,
      "rowLimit": 10000
     },
     "inputWidgets": {},
     "nuid": "a1d5bbcd-234c-42d2-bb9c-267782c44fd2",
     "showTitle": false,
     "tableResultSettingsMap": {},
     "title": ""
    }
   },
   "outputs": [],
   "source": [
    "df_joined_casted.write.mode('overwrite').saveAsTable(f\"{silver_path}.zubaleOrdersDetail\")"
   ]
  }
 ],
 "metadata": {
  "application/vnd.databricks.v1+notebook": {
   "computePreferences": null,
   "dashboards": [],
   "environmentMetadata": {
    "base_environment": "",
    "environment_version": "2"
   },
   "inputWidgetPreferences": null,
   "language": "python",
   "notebookMetadata": {
    "mostRecentlyExecutedCommandWithImplicitDF": {
     "commandId": 7775716610927138,
     "dataframes": [
      "_sqldf"
     ]
    },
    "pythonIndentUnit": 4
   },
   "notebookName": "Challenge #1",
   "widgets": {}
  },
  "language_info": {
   "name": "python"
  }
 },
 "nbformat": 4,
 "nbformat_minor": 0
}